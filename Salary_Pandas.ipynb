{
  "nbformat": 4,
  "nbformat_minor": 0,
  "metadata": {
    "colab": {
      "provenance": [],
      "authorship_tag": "ABX9TyPVsndFt/BEpuhPhjfU1KTa",
      "include_colab_link": true
    },
    "kernelspec": {
      "name": "python3",
      "display_name": "Python 3"
    },
    "language_info": {
      "name": "python"
    }
  },
  "cells": [
    {
      "cell_type": "markdown",
      "metadata": {
        "id": "view-in-github",
        "colab_type": "text"
      },
      "source": [
        "<a href=\"https://colab.research.google.com/github/rutuja102005/Python-Codes/blob/main/Salary_Pandas.ipynb\" target=\"_parent\"><img src=\"https://colab.research.google.com/assets/colab-badge.svg\" alt=\"Open In Colab\"/></a>"
      ]
    },
    {
      "cell_type": "code",
      "execution_count": null,
      "metadata": {
        "colab": {
          "base_uri": "https://localhost:8080/"
        },
        "id": "CA9OhH4wGfdu",
        "outputId": "92743af4-b7a4-4360-ddde-2e198914e3d0"
      },
      "outputs": [
        {
          "output_type": "stream",
          "name": "stdout",
          "text": [
            "    Name Department  Salary\n",
            "0   Amit         IT   45000\n",
            "1    Raj         HR   50000\n",
            "2  Priya         IT   48000\n",
            "3   Neha    Finance   60000\n",
            "\n",
            "Highest Salary Employee:\n",
            " Name             Neha\n",
            "Department    Finance\n",
            "Salary          60000\n",
            "Name: 3, dtype: object\n"
          ]
        }
      ],
      "source": [
        "import pandas as pd\n",
        "\n",
        "data = {\n",
        "    \"Name\": [\"Amit\", \"Raj\", \"Priya\", \"Neha\"],\n",
        "    \"Department\": [\"IT\", \"HR\", \"IT\", \"Finance\"],\n",
        "    \"Salary\": [45000, 50000, 48000, 60000]\n",
        "}\n",
        "\n",
        "df = pd.DataFrame(data)\n",
        "print(df)\n",
        "print(\"\\nHighest Salary Employee:\\n\", df.loc[df[\"Salary\"].idxmax()])\n"
      ]
    },
    {
      "cell_type": "code",
      "source": [
        "import pandas as pd\n",
        "\n",
        "data = {\"Name\": [\"A\", \"B\", \"C\", \"D\", \"E\"],\n",
        "        \"Maths\": [75, 88, 92, 45, 81]}\n",
        "\n",
        "df = pd.DataFrame(data)\n",
        "print(df[df[\"Maths\"] > 80])\n"
      ],
      "metadata": {
        "colab": {
          "base_uri": "https://localhost:8080/"
        },
        "id": "xmKAOgAVG1bB",
        "outputId": "c91cb096-07e0-4729-cef9-579c57e1e97f"
      },
      "execution_count": null,
      "outputs": [
        {
          "output_type": "stream",
          "name": "stdout",
          "text": [
            "  Name  Maths\n",
            "1    B     88\n",
            "2    C     92\n",
            "4    E     81\n"
          ]
        }
      ]
    },
    {
      "cell_type": "code",
      "source": [
        "import pandas as pd\n",
        "\n",
        "days = [\"Mon\", \"Tue\", \"Wed\", \"Thu\", \"Fri\", \"Sat\", \"Sun\"]\n",
        "temp = [30, 32, 33, 31, 29, 35, 34]\n",
        "\n",
        "df = pd.DataFrame({\"Day\": days, \"Temperature\": temp})\n",
        "print(df)\n",
        "print(\"\\nAverage Temperature:\", df[\"Temperature\"].mean())\n"
      ],
      "metadata": {
        "colab": {
          "base_uri": "https://localhost:8080/"
        },
        "id": "ag5DUXBVHGny",
        "outputId": "fe3940c6-0c33-4fcb-f74a-6acd7aa34675"
      },
      "execution_count": null,
      "outputs": [
        {
          "output_type": "stream",
          "name": "stdout",
          "text": [
            "   Day  Temperature\n",
            "0  Mon           30\n",
            "1  Tue           32\n",
            "2  Wed           33\n",
            "3  Thu           31\n",
            "4  Fri           29\n",
            "5  Sat           35\n",
            "6  Sun           34\n",
            "\n",
            "Average Temperature: 32.0\n"
          ]
        }
      ]
    },
    {
      "cell_type": "code",
      "source": [
        "import pandas as pd\n",
        "\n",
        "data = {\"Name\": [\"Anil\", \"Ravi\", \"Sneha\", \"Pooja\"],\n",
        "        \"Salary\": [40000, 35000, 50000, 45000]}\n",
        "df = pd.DataFrame(data)\n",
        "print(df.sort_values(by=\"Salary\", ascending=False))\n"
      ],
      "metadata": {
        "colab": {
          "base_uri": "https://localhost:8080/"
        },
        "id": "W8tvY65LHV-D",
        "outputId": "e31a3c62-a6ef-4ebb-cafa-2aebefa251dd"
      },
      "execution_count": null,
      "outputs": [
        {
          "output_type": "stream",
          "name": "stdout",
          "text": [
            "    Name  Salary\n",
            "2  Sneha   50000\n",
            "3  Pooja   45000\n",
            "0   Anil   40000\n",
            "1   Ravi   35000\n"
          ]
        }
      ]
    },
    {
      "cell_type": "code",
      "source": [
        "import pandas as pd\n",
        "\n",
        "names = [input(\"Enter name: \") for _ in range(5)]\n",
        "roll = [int(input(\"Enter roll no: \")) for _ in range(5)]\n",
        "p = [int(input(\"Physics: \")) for _ in range(5)]\n",
        "c = [int(input(\"Chemistry: \")) for _ in range(5)]\n",
        "m = [int(input(\"Maths: \")) for _ in range(5)]\n",
        "\n",
        "df = pd.DataFrame({\n",
        "    \"Roll No\": roll,\n",
        "    \"Name\": names,\n",
        "    \"Physics\": p,\n",
        "    \"Chemistry\": c,\n",
        "    \"Maths\": m\n",
        "})\n",
        "\n",
        "df[\"Total\"] = df[\"Physics\"] + df[\"Chemistry\"] + df[\"Maths\"]\n",
        "df[\"Average\"] = df[\"Total\"] / 3\n",
        "df[\"Grade\"] = [\"A\" if avg >= 85 else \"B\" if avg >= 70 else \"C\" if avg >= 50 else \"Fail\"\n",
        "               for avg in df[\"Average\"]]\n",
        "\n",
        "print(\"\\nFinal Marksheet:\\n\", df)\n",
        "print(\"\\nTopper:\\n\", df.loc[df[\"Total\"].idxmax()])\n",
        "y"
      ],
      "metadata": {
        "colab": {
          "base_uri": "https://localhost:8080/",
          "height": 315
        },
        "id": "2zT_MIDJIKFJ",
        "outputId": "5cbca529-45ef-4794-ac79-d80ca0280651"
      },
      "execution_count": null,
      "outputs": [
        {
          "name": "stdout",
          "output_type": "stream",
          "text": [
            "Enter name: na\n",
            "Enter name: yj\n",
            "Enter name: bh\n",
            "Enter name: gh\n",
            "Enter name: gh\n",
            "Enter roll no: g\n"
          ]
        },
        {
          "output_type": "error",
          "ename": "ValueError",
          "evalue": "invalid literal for int() with base 10: 'g'",
          "traceback": [
            "\u001b[0;31m---------------------------------------------------------------------------\u001b[0m",
            "\u001b[0;31mValueError\u001b[0m                                Traceback (most recent call last)",
            "\u001b[0;32m/tmp/ipython-input-1086601290.py\u001b[0m in \u001b[0;36m<cell line: 0>\u001b[0;34m()\u001b[0m\n\u001b[1;32m      2\u001b[0m \u001b[0;34m\u001b[0m\u001b[0m\n\u001b[1;32m      3\u001b[0m \u001b[0mnames\u001b[0m \u001b[0;34m=\u001b[0m \u001b[0;34m[\u001b[0m\u001b[0minput\u001b[0m\u001b[0;34m(\u001b[0m\u001b[0;34m\"Enter name: \"\u001b[0m\u001b[0;34m)\u001b[0m \u001b[0;32mfor\u001b[0m \u001b[0m_\u001b[0m \u001b[0;32min\u001b[0m \u001b[0mrange\u001b[0m\u001b[0;34m(\u001b[0m\u001b[0;36m5\u001b[0m\u001b[0;34m)\u001b[0m\u001b[0;34m]\u001b[0m\u001b[0;34m\u001b[0m\u001b[0;34m\u001b[0m\u001b[0m\n\u001b[0;32m----> 4\u001b[0;31m \u001b[0mroll\u001b[0m \u001b[0;34m=\u001b[0m \u001b[0;34m[\u001b[0m\u001b[0mint\u001b[0m\u001b[0;34m(\u001b[0m\u001b[0minput\u001b[0m\u001b[0;34m(\u001b[0m\u001b[0;34m\"Enter roll no: \"\u001b[0m\u001b[0;34m)\u001b[0m\u001b[0;34m)\u001b[0m \u001b[0;32mfor\u001b[0m \u001b[0m_\u001b[0m \u001b[0;32min\u001b[0m \u001b[0mrange\u001b[0m\u001b[0;34m(\u001b[0m\u001b[0;36m5\u001b[0m\u001b[0;34m)\u001b[0m\u001b[0;34m]\u001b[0m\u001b[0;34m\u001b[0m\u001b[0;34m\u001b[0m\u001b[0m\n\u001b[0m\u001b[1;32m      5\u001b[0m \u001b[0mp\u001b[0m \u001b[0;34m=\u001b[0m \u001b[0;34m[\u001b[0m\u001b[0mint\u001b[0m\u001b[0;34m(\u001b[0m\u001b[0minput\u001b[0m\u001b[0;34m(\u001b[0m\u001b[0;34m\"Physics: \"\u001b[0m\u001b[0;34m)\u001b[0m\u001b[0;34m)\u001b[0m \u001b[0;32mfor\u001b[0m \u001b[0m_\u001b[0m \u001b[0;32min\u001b[0m \u001b[0mrange\u001b[0m\u001b[0;34m(\u001b[0m\u001b[0;36m5\u001b[0m\u001b[0;34m)\u001b[0m\u001b[0;34m]\u001b[0m\u001b[0;34m\u001b[0m\u001b[0;34m\u001b[0m\u001b[0m\n\u001b[1;32m      6\u001b[0m \u001b[0mc\u001b[0m \u001b[0;34m=\u001b[0m \u001b[0;34m[\u001b[0m\u001b[0mint\u001b[0m\u001b[0;34m(\u001b[0m\u001b[0minput\u001b[0m\u001b[0;34m(\u001b[0m\u001b[0;34m\"Chemistry: \"\u001b[0m\u001b[0;34m)\u001b[0m\u001b[0;34m)\u001b[0m \u001b[0;32mfor\u001b[0m \u001b[0m_\u001b[0m \u001b[0;32min\u001b[0m \u001b[0mrange\u001b[0m\u001b[0;34m(\u001b[0m\u001b[0;36m5\u001b[0m\u001b[0;34m)\u001b[0m\u001b[0;34m]\u001b[0m\u001b[0;34m\u001b[0m\u001b[0;34m\u001b[0m\u001b[0m\n",
            "\u001b[0;31mValueError\u001b[0m: invalid literal for int() with base 10: 'g'"
          ]
        }
      ]
    },
    {
      "cell_type": "code",
      "source": [
        "import pandas as pd\n",
        "\n",
        "data = {\n",
        "    \"Name\": [\"A\", \"B\", \"C\", \"D\", \"E\", \"F\"],\n",
        "    \"Region\": [\"East\", \"West\", \"East\", \"South\", \"North\", \"South\"],\n",
        "    \"Sales\": [50000, 42000, 55000, 38000, 60000, 47000]\n",
        "}\n",
        "\n",
        "df = pd.DataFrame(data)\n",
        "\n",
        "print(\"Total Sales:\", df[\"Sales\"].sum())\n",
        "print(\"Average Sales:\", df[\"Sales\"].mean())\n",
        "print(\"Highest Sales:\\n\", df.loc[df[\"Sales\"].idxmax()])\n",
        "print(\"Lowest Sales:\\n\", df.loc[df[\"Sales\"].idxmin()])\n",
        "\n",
        "print(\"\\nRegion-wise Average Sales:\\n\", df.groupby(\"Region\")[\"Sales\"].mean())\n",
        "\n"
      ],
      "metadata": {
        "colab": {
          "base_uri": "https://localhost:8080/"
        },
        "id": "I49V-YYiIrwk",
        "outputId": "ffa52388-a8b6-4116-a617-edbc093dfeff"
      },
      "execution_count": null,
      "outputs": [
        {
          "output_type": "stream",
          "name": "stdout",
          "text": [
            "Total Sales: 292000\n",
            "Average Sales: 48666.666666666664\n",
            "Highest Sales:\n",
            " Name          E\n",
            "Region    North\n",
            "Sales     60000\n",
            "Name: 4, dtype: object\n",
            "Lowest Sales:\n",
            " Name          D\n",
            "Region    South\n",
            "Sales     38000\n",
            "Name: 3, dtype: object\n",
            "\n",
            "Region-wise Average Sales:\n",
            " Region\n",
            "East     52500.0\n",
            "North    60000.0\n",
            "South    42500.0\n",
            "West     42000.0\n",
            "Name: Sales, dtype: float64\n"
          ]
        }
      ]
    }
  ]
}